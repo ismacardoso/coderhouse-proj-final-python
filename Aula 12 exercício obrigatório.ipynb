{
 "cells": [
  {
   "cell_type": "code",
   "execution_count": 60,
   "metadata": {},
   "outputs": [],
   "source": [
    "import requests\n",
    "import pandas as pd\n",
    "from plyer import notification"
   ]
  },
  {
   "cell_type": "code",
   "execution_count": 61,
   "metadata": {},
   "outputs": [],
   "source": [
    "url = 'https://brasilapi.com.br/api/cvm/corretoras/v1'\n",
    "response = requests.get(url)"
   ]
  },
  {
   "cell_type": "code",
   "execution_count": 62,
   "metadata": {},
   "outputs": [
    {
     "name": "stdout",
     "output_type": "stream",
     "text": [
      "Dados importados com sucesso\n"
     ]
    }
   ],
   "source": [
    "if response.status_code == 200:\n",
    "    print('Dados importados com sucesso')\n",
    "    data_json = response.json()\n",
    "else: \n",
    "    print('Erro ao acessar a API')"
   ]
  },
  {
   "cell_type": "code",
   "execution_count": 63,
   "metadata": {},
   "outputs": [],
   "source": [
    "def alerta(): \n",
    "\n",
    "    url = 'https://brasilapi.com.br/api/cvm/corretoras/v1'\n",
    "\n",
    "    response = requests.get(url)\n",
    "    status_code = response.status_code\n",
    "        \n",
    "    if status_code == 200:\n",
    "        titulo = 'Sucesso'\n",
    "        mensagem = 'Dados importados com sucesso'\n",
    "    else:\n",
    "        titulo = 'Erro'\n",
    "        mensagem = 'Erro ao acessar a API'\n",
    "    \n",
    "    notification.notify(\n",
    "        title = titulo,\n",
    "        message = mensagem,\n",
    "        app_name = 'Teste',\n",
    "        timeout = 10 )\n",
    "    \n",
    "alerta()"
   ]
  },
  {
   "cell_type": "code",
   "execution_count": 64,
   "metadata": {},
   "outputs": [],
   "source": [
    "corretoras = pd.DataFrame(data_json)"
   ]
  },
  {
   "cell_type": "code",
   "execution_count": 65,
   "metadata": {},
   "outputs": [
    {
     "data": {
      "text/html": [
       "<div>\n",
       "<style scoped>\n",
       "    .dataframe tbody tr th:only-of-type {\n",
       "        vertical-align: middle;\n",
       "    }\n",
       "\n",
       "    .dataframe tbody tr th {\n",
       "        vertical-align: top;\n",
       "    }\n",
       "\n",
       "    .dataframe thead th {\n",
       "        text-align: right;\n",
       "    }\n",
       "</style>\n",
       "<table border=\"1\" class=\"dataframe\">\n",
       "  <thead>\n",
       "    <tr style=\"text-align: right;\">\n",
       "      <th></th>\n",
       "      <th>cnpj</th>\n",
       "      <th>nome_social</th>\n",
       "      <th>nome_comercial</th>\n",
       "      <th>codigo_cvm</th>\n",
       "      <th>email</th>\n",
       "      <th>telefone</th>\n",
       "      <th>logradouro</th>\n",
       "      <th>complemento</th>\n",
       "      <th>cep</th>\n",
       "    </tr>\n",
       "  </thead>\n",
       "  <tbody>\n",
       "    <tr>\n",
       "      <th>0</th>\n",
       "      <td>76621457000185</td>\n",
       "      <td>4UM DTVM S.A.</td>\n",
       "      <td>4UM INVESTIMENTOS</td>\n",
       "      <td>2275</td>\n",
       "      <td>controle@4um.com.br</td>\n",
       "      <td>33519966</td>\n",
       "      <td>R. VISCONDE DO RIO BRANCO 1488</td>\n",
       "      <td>4º ANDAR</td>\n",
       "      <td>80420210</td>\n",
       "    </tr>\n",
       "    <tr>\n",
       "      <th>1</th>\n",
       "      <td>33817677000176</td>\n",
       "      <td>ABC BRASIL DISTRIBUIDORA DE TÍTULOS E VALORES ...</td>\n",
       "      <td>ABC BRASIL CORRETORA</td>\n",
       "      <td>3514</td>\n",
       "      <td>regina.tkatch@abcbrasil.com.br</td>\n",
       "      <td>31702172</td>\n",
       "      <td>AV. CIDADE JARDIM, 803</td>\n",
       "      <td>2º ANDAR</td>\n",
       "      <td>1453000</td>\n",
       "    </tr>\n",
       "    <tr>\n",
       "      <th>2</th>\n",
       "      <td>10664027000132</td>\n",
       "      <td>ABERTURA CCVM LTDA</td>\n",
       "      <td>ABERTURA CCVM LTDA</td>\n",
       "      <td>329</td>\n",
       "      <td></td>\n",
       "      <td></td>\n",
       "      <td>R DO IMP.D.PEDRO II 239/CJ.102</td>\n",
       "      <td></td>\n",
       "      <td>50010240</td>\n",
       "    </tr>\n",
       "  </tbody>\n",
       "</table>\n",
       "</div>"
      ],
      "text/plain": [
       "             cnpj                                        nome_social  \\\n",
       "0  76621457000185                                      4UM DTVM S.A.   \n",
       "1  33817677000176  ABC BRASIL DISTRIBUIDORA DE TÍTULOS E VALORES ...   \n",
       "2  10664027000132                                 ABERTURA CCVM LTDA   \n",
       "\n",
       "         nome_comercial codigo_cvm                           email  telefone  \\\n",
       "0     4UM INVESTIMENTOS       2275             controle@4um.com.br  33519966   \n",
       "1  ABC BRASIL CORRETORA       3514  regina.tkatch@abcbrasil.com.br  31702172   \n",
       "2    ABERTURA CCVM LTDA        329                                             \n",
       "\n",
       "                       logradouro complemento       cep  \n",
       "0  R. VISCONDE DO RIO BRANCO 1488    4º ANDAR  80420210  \n",
       "1          AV. CIDADE JARDIM, 803    2º ANDAR   1453000  \n",
       "2  R DO IMP.D.PEDRO II 239/CJ.102              50010240  "
      ]
     },
     "execution_count": 65,
     "metadata": {},
     "output_type": "execute_result"
    }
   ],
   "source": [
    "corretoras_cadastro = corretoras[['cnpj', 'nome_social', 'nome_comercial', 'codigo_cvm', 'email', 'telefone', 'logradouro', 'complemento', 'cep']]\n",
    "\n",
    "corretoras_cadastro.head(3)"
   ]
  },
  {
   "cell_type": "code",
   "execution_count": 69,
   "metadata": {},
   "outputs": [
    {
     "data": {
      "text/html": [
       "<div>\n",
       "<style scoped>\n",
       "    .dataframe tbody tr th:only-of-type {\n",
       "        vertical-align: middle;\n",
       "    }\n",
       "\n",
       "    .dataframe tbody tr th {\n",
       "        vertical-align: top;\n",
       "    }\n",
       "\n",
       "    .dataframe thead th {\n",
       "        text-align: right;\n",
       "    }\n",
       "</style>\n",
       "<table border=\"1\" class=\"dataframe\">\n",
       "  <thead>\n",
       "    <tr style=\"text-align: right;\">\n",
       "      <th></th>\n",
       "      <th>cnpj</th>\n",
       "      <th>data_registro</th>\n",
       "      <th>status</th>\n",
       "    </tr>\n",
       "  </thead>\n",
       "  <tbody>\n",
       "    <tr>\n",
       "      <th>0</th>\n",
       "      <td>76621457000185</td>\n",
       "      <td>1968-01-15</td>\n",
       "      <td>CANCELADA</td>\n",
       "    </tr>\n",
       "    <tr>\n",
       "      <th>1</th>\n",
       "      <td>33817677000176</td>\n",
       "      <td>2002-10-14</td>\n",
       "      <td>CANCELADA</td>\n",
       "    </tr>\n",
       "    <tr>\n",
       "      <th>2</th>\n",
       "      <td>10664027000132</td>\n",
       "      <td>1986-07-08</td>\n",
       "      <td>CANCELADA</td>\n",
       "    </tr>\n",
       "  </tbody>\n",
       "</table>\n",
       "</div>"
      ],
      "text/plain": [
       "             cnpj data_registro     status\n",
       "0  76621457000185    1968-01-15  CANCELADA\n",
       "1  33817677000176    2002-10-14  CANCELADA\n",
       "2  10664027000132    1986-07-08  CANCELADA"
      ]
     },
     "execution_count": 69,
     "metadata": {},
     "output_type": "execute_result"
    }
   ],
   "source": [
    "corretoras_status = corretoras[['cnpj', 'data_registro', 'status']]\n",
    "\n",
    "corretoras_status.head(3)"
   ]
  },
  {
   "cell_type": "code",
   "execution_count": 68,
   "metadata": {},
   "outputs": [
    {
     "data": {
      "text/html": [
       "<div>\n",
       "<style scoped>\n",
       "    .dataframe tbody tr th:only-of-type {\n",
       "        vertical-align: middle;\n",
       "    }\n",
       "\n",
       "    .dataframe tbody tr th {\n",
       "        vertical-align: top;\n",
       "    }\n",
       "\n",
       "    .dataframe thead th {\n",
       "        text-align: right;\n",
       "    }\n",
       "</style>\n",
       "<table border=\"1\" class=\"dataframe\">\n",
       "  <thead>\n",
       "    <tr style=\"text-align: right;\">\n",
       "      <th></th>\n",
       "      <th>cnpj</th>\n",
       "      <th>valor_patrimonio_liquido</th>\n",
       "    </tr>\n",
       "  </thead>\n",
       "  <tbody>\n",
       "    <tr>\n",
       "      <th>0</th>\n",
       "      <td>76621457000185</td>\n",
       "      <td>4228660.18</td>\n",
       "    </tr>\n",
       "    <tr>\n",
       "      <th>1</th>\n",
       "      <td>33817677000176</td>\n",
       "      <td>0.00</td>\n",
       "    </tr>\n",
       "    <tr>\n",
       "      <th>2</th>\n",
       "      <td>10664027000132</td>\n",
       "      <td>5995252.29</td>\n",
       "    </tr>\n",
       "  </tbody>\n",
       "</table>\n",
       "</div>"
      ],
      "text/plain": [
       "             cnpj valor_patrimonio_liquido\n",
       "0  76621457000185               4228660.18\n",
       "1  33817677000176                     0.00\n",
       "2  10664027000132               5995252.29"
      ]
     },
     "execution_count": 68,
     "metadata": {},
     "output_type": "execute_result"
    }
   ],
   "source": [
    "corretoras_patrimonio = corretoras[['cnpj', 'valor_patrimonio_liquido']]\n",
    "\n",
    "corretoras_patrimonio.head(3)"
   ]
  }
 ],
 "metadata": {
  "kernelspec": {
   "display_name": "Python 3",
   "language": "python",
   "name": "python3"
  },
  "language_info": {
   "codemirror_mode": {
    "name": "ipython",
    "version": 3
   },
   "file_extension": ".py",
   "mimetype": "text/x-python",
   "name": "python",
   "nbconvert_exporter": "python",
   "pygments_lexer": "ipython3",
   "version": "3.11.5"
  },
  "orig_nbformat": 4
 },
 "nbformat": 4,
 "nbformat_minor": 2
}
