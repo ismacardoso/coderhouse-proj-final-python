{
 "cells": [
  {
   "cell_type": "code",
   "execution_count": 2,
   "metadata": {},
   "outputs": [],
   "source": [
    "import requests\n",
    "import pandas as pd\n",
    "import sqlite3\n",
    "from plyer import notification\n"
   ]
  },
  {
   "cell_type": "code",
   "execution_count": 3,
   "metadata": {},
   "outputs": [],
   "source": [
    "url = 'https://brasilapi.com.br/api/cvm/corretoras/v1'\n",
    "response = requests.get(url)"
   ]
  },
  {
   "cell_type": "code",
   "execution_count": 4,
   "metadata": {},
   "outputs": [
    {
     "name": "stdout",
     "output_type": "stream",
     "text": [
      "Dados importados com sucesso\n"
     ]
    }
   ],
   "source": [
    "if response.status_code == 200:\n",
    "    print('Dados importados com sucesso')\n",
    "    data_json = response.json()\n",
    "else: \n",
    "    print('Erro ao acessar a API')"
   ]
  },
  {
   "cell_type": "code",
   "execution_count": 5,
   "metadata": {},
   "outputs": [],
   "source": [
    "def alerta(): \n",
    "\n",
    "    url = 'https://brasilapi.com.br/api/cvm/corretoras/v1'\n",
    "\n",
    "    response = requests.get(url)\n",
    "    status_code = response.status_code\n",
    "        \n",
    "    if status_code == 200:\n",
    "        titulo = 'Sucesso'\n",
    "        mensagem = 'Dados importados com sucesso'\n",
    "    else:\n",
    "        titulo = 'Erro'\n",
    "        mensagem = 'Erro ao acessar a API'\n",
    "    \n",
    "    notification.notify(\n",
    "        title = titulo,\n",
    "        message = mensagem,\n",
    "        app_name = 'Teste',\n",
    "        timeout = 10 )\n",
    "    \n",
    "alerta()"
   ]
  },
  {
   "cell_type": "code",
   "execution_count": 6,
   "metadata": {},
   "outputs": [],
   "source": [
    "corretoras = pd.DataFrame(data_json)"
   ]
  },
  {
   "cell_type": "code",
   "execution_count": 7,
   "metadata": {},
   "outputs": [
    {
     "data": {
      "text/plain": [
       "CNPJ            Nome                                       \n",
       "76621457000185  4UM DTVM S.A.                Nome Comercial                 4UM INVESTIMENTOS\n",
       "                                             Código CVM                                  2275\n",
       "                                             E-mail                       controle@4um.com.br\n",
       "                                             Telefone                                33519966\n",
       "                                             Endereço          R. VISCONDE DO RIO BRANCO 1488\n",
       "                                                                            ...              \n",
       "02332886000104  XP INVESTIMENTOS CCTVM S.A.  E-mail                lucas.rabechini@xpi.com.br\n",
       "                                             Telefone                                30272237\n",
       "                                             Endereço            AVENIDA ATAULFO DE PAIVA 153\n",
       "                                             Complemento                             5º Andar\n",
       "                                             CEP                                     22440032\n",
       "Length: 2611, dtype: object"
      ]
     },
     "execution_count": 7,
     "metadata": {},
     "output_type": "execute_result"
    }
   ],
   "source": [
    "corretoras_cadastro = corretoras[['cnpj', 'nome_social', 'nome_comercial', 'codigo_cvm', 'email', 'telefone', 'logradouro', 'complemento', 'cep']]\n",
    "\n",
    "corretoras_cadastro = corretoras_cadastro.rename(columns={\n",
    "    'cnpj': 'CNPJ', \n",
    "    'nome_social': \"Nome\", \n",
    "    'nome_comercial': 'Nome Comercial', \n",
    "    'codigo_cvm': 'Código CVM',\n",
    "    'email': 'E-mail', \n",
    "    'telefone': 'Telefone', \n",
    "    'logradouro': 'Endereço', \n",
    "    'complemento': 'Complemento', \n",
    "    'cep': 'CEP'})\n",
    "\n",
    "corretoras_cadastro = corretoras_cadastro.set_index(['CNPJ', 'Nome'])\n",
    "corretoras_cadastro_stacked = corretoras_cadastro.stack()\n",
    "\n",
    "corretoras_cadastro_stacked\n"
   ]
  },
  {
   "cell_type": "code",
   "execution_count": 8,
   "metadata": {},
   "outputs": [],
   "source": [
    "conn = sqlite3.connect('coderhouse.db')\n",
    "corretoras_cadastro_stacked.to_sql('corretoras_cadastro', conn, if_exists='replace', index=False)\n",
    "conn.close()\n"
   ]
  },
  {
   "cell_type": "code",
   "execution_count": 9,
   "metadata": {},
   "outputs": [
    {
     "name": "stdout",
     "output_type": "stream",
     "text": [
      "<class 'pandas.core.frame.DataFrame'>\n",
      "RangeIndex: 373 entries, 0 to 372\n",
      "Data columns (total 3 columns):\n",
      " #   Column            Non-Null Count  Dtype         \n",
      "---  ------            --------------  -----         \n",
      " 0   CNPJ              373 non-null    object        \n",
      " 1   Data de Registro  373 non-null    datetime64[ns]\n",
      " 2   Status            373 non-null    object        \n",
      "dtypes: datetime64[ns](1), object(2)\n",
      "memory usage: 8.9+ KB\n"
     ]
    }
   ],
   "source": [
    "corretoras_status = corretoras[['cnpj', 'data_registro', 'status']]\n",
    "\n",
    "corretoras_status = corretoras_status.rename(columns={\n",
    "    'cnpj': 'CNPJ', \n",
    "    'data_registro': 'Data de Registro', \n",
    "    'status': 'Status'})\n",
    "\n",
    "corretoras_status_replace = corretoras_status.replace(to_replace='EM FUNCIONAMENTO NORMAL',\n",
    "                                                    value = 'EM FUNCIONAMENTO')\n",
    "\n",
    "corretoras_status_replace['Data de Registro'] = pd.to_datetime(corretoras_status_replace['Data de Registro'],format='%Y-%m-%d')\n",
    "\n",
    "corretoras_status_replace.info()"
   ]
  },
  {
   "cell_type": "code",
   "execution_count": 10,
   "metadata": {},
   "outputs": [],
   "source": [
    "conn = sqlite3.connect('coderhouse.db')\n",
    "corretoras_status.to_sql('corretoras_status', conn, if_exists='replace', index=False)\n",
    "conn.close()"
   ]
  },
  {
   "cell_type": "code",
   "execution_count": 11,
   "metadata": {},
   "outputs": [
    {
     "data": {
      "text/html": [
       "<div>\n",
       "<style scoped>\n",
       "    .dataframe tbody tr th:only-of-type {\n",
       "        vertical-align: middle;\n",
       "    }\n",
       "\n",
       "    .dataframe tbody tr th {\n",
       "        vertical-align: top;\n",
       "    }\n",
       "\n",
       "    .dataframe thead th {\n",
       "        text-align: right;\n",
       "    }\n",
       "</style>\n",
       "<table border=\"1\" class=\"dataframe\">\n",
       "  <thead>\n",
       "    <tr style=\"text-align: right;\">\n",
       "      <th></th>\n",
       "      <th>CNPJ</th>\n",
       "      <th>Patrimônio Líquido</th>\n",
       "    </tr>\n",
       "  </thead>\n",
       "  <tbody>\n",
       "    <tr>\n",
       "      <th>0</th>\n",
       "      <td>76621457000185</td>\n",
       "      <td>4.228660e+06</td>\n",
       "    </tr>\n",
       "    <tr>\n",
       "      <th>2</th>\n",
       "      <td>10664027000132</td>\n",
       "      <td>5.995252e+06</td>\n",
       "    </tr>\n",
       "    <tr>\n",
       "      <th>3</th>\n",
       "      <td>44527444000155</td>\n",
       "      <td>3.729687e+06</td>\n",
       "    </tr>\n",
       "    <tr>\n",
       "      <th>7</th>\n",
       "      <td>43050917000103</td>\n",
       "      <td>8.518212e+06</td>\n",
       "    </tr>\n",
       "    <tr>\n",
       "      <th>12</th>\n",
       "      <td>74014747000135</td>\n",
       "      <td>4.498104e+08</td>\n",
       "    </tr>\n",
       "    <tr>\n",
       "      <th>...</th>\n",
       "      <td>...</td>\n",
       "      <td>...</td>\n",
       "    </tr>\n",
       "    <tr>\n",
       "      <th>367</th>\n",
       "      <td>36159085000100</td>\n",
       "      <td>1.684848e+07</td>\n",
       "    </tr>\n",
       "    <tr>\n",
       "      <th>368</th>\n",
       "      <td>01170892000131</td>\n",
       "      <td>2.667918e+08</td>\n",
       "    </tr>\n",
       "    <tr>\n",
       "      <th>369</th>\n",
       "      <td>61769790000169</td>\n",
       "      <td>7.464374e+06</td>\n",
       "    </tr>\n",
       "    <tr>\n",
       "      <th>370</th>\n",
       "      <td>92875780000131</td>\n",
       "      <td>2.339812e+07</td>\n",
       "    </tr>\n",
       "    <tr>\n",
       "      <th>372</th>\n",
       "      <td>02332886000104</td>\n",
       "      <td>8.288904e+09</td>\n",
       "    </tr>\n",
       "  </tbody>\n",
       "</table>\n",
       "<p>181 rows × 2 columns</p>\n",
       "</div>"
      ],
      "text/plain": [
       "               CNPJ  Patrimônio Líquido\n",
       "0    76621457000185        4.228660e+06\n",
       "2    10664027000132        5.995252e+06\n",
       "3    44527444000155        3.729687e+06\n",
       "7    43050917000103        8.518212e+06\n",
       "12   74014747000135        4.498104e+08\n",
       "..              ...                 ...\n",
       "367  36159085000100        1.684848e+07\n",
       "368  01170892000131        2.667918e+08\n",
       "369  61769790000169        7.464374e+06\n",
       "370  92875780000131        2.339812e+07\n",
       "372  02332886000104        8.288904e+09\n",
       "\n",
       "[181 rows x 2 columns]"
      ]
     },
     "execution_count": 11,
     "metadata": {},
     "output_type": "execute_result"
    }
   ],
   "source": [
    "corretoras_patrimonio = corretoras[['cnpj', 'valor_patrimonio_liquido']]\n",
    "\n",
    "corretoras_patrimonio = corretoras_patrimonio.rename(columns={\n",
    "    'cnpj': 'CNPJ',\n",
    "    'valor_patrimonio_liquido': 'Patrimônio Líquido'})\n",
    "\n",
    "\n",
    "\n",
    "corretoras_patrimonio['Patrimônio Líquido'] = pd.to_numeric(corretoras_patrimonio['Patrimônio Líquido'])\n",
    "\n",
    "filtro = corretoras_patrimonio['Patrimônio Líquido'] > 3000000\n",
    "\n",
    "corretoras_patrimonio_filtrado = corretoras_patrimonio[filtro]\n",
    "\n",
    "corretoras_patrimonio_filtrado\n"
   ]
  },
  {
   "cell_type": "code",
   "execution_count": 12,
   "metadata": {},
   "outputs": [],
   "source": [
    "conn = sqlite3.connect('coderhouse.db')\n",
    "corretoras_patrimonio_filtrado.to_sql('corretoras_patrimonio', conn, if_exists='replace', index=False)\n",
    "conn.close()"
   ]
  }
 ],
 "metadata": {
  "kernelspec": {
   "display_name": "Python 3",
   "language": "python",
   "name": "python3"
  },
  "language_info": {
   "codemirror_mode": {
    "name": "ipython",
    "version": 3
   },
   "file_extension": ".py",
   "mimetype": "text/x-python",
   "name": "python",
   "nbconvert_exporter": "python",
   "pygments_lexer": "ipython3",
   "version": "3.11.5"
  },
  "orig_nbformat": 4
 },
 "nbformat": 4,
 "nbformat_minor": 2
}
